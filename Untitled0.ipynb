{
  "nbformat": 4,
  "nbformat_minor": 0,
  "metadata": {
    "colab": {
      "provenance": [],
      "authorship_tag": "ABX9TyONE0S5sU0PFVgJbnX1MRk0",
      "include_colab_link": true
    },
    "kernelspec": {
      "name": "python3",
      "display_name": "Python 3"
    },
    "language_info": {
      "name": "python"
    }
  },
  "cells": [
    {
      "cell_type": "markdown",
      "metadata": {
        "id": "view-in-github",
        "colab_type": "text"
      },
      "source": [
        "<a href=\"https://colab.research.google.com/github/JYOTIRMAYEE-2004/jyotirmayee_2201206026/blob/main/Untitled0.ipynb\" target=\"_parent\"><img src=\"https://colab.research.google.com/assets/colab-badge.svg\" alt=\"Open In Colab\"/></a>"
      ]
    },
    {
      "cell_type": "code",
      "source": [
        "a=input('enter your name')\n",
        "print('myself',a)\n"
      ],
      "metadata": {
        "colab": {
          "base_uri": "https://localhost:8080/"
        },
        "id": "7hdinpiL1nHC",
        "outputId": "e383cf3d-a83f-466c-ece1-4b8590889c6f"
      },
      "execution_count": null,
      "outputs": [
        {
          "output_type": "stream",
          "name": "stdout",
          "text": [
            "enter your namejyoti\n",
            "myself jyoti\n"
          ]
        }
      ]
    },
    {
      "cell_type": "code",
      "source": [
        "a=12\n",
        "b=12\n",
        "c=2022\n",
        "print(a,b,c,sep=\"-\")"
      ],
      "metadata": {
        "colab": {
          "base_uri": "https://localhost:8080/"
        },
        "id": "aGIFdaut2xsZ",
        "outputId": "394a8776-f885-4399-b732-f45a176adaac"
      },
      "execution_count": null,
      "outputs": [
        {
          "output_type": "stream",
          "name": "stdout",
          "text": [
            "12-12-2022\n"
          ]
        }
      ]
    },
    {
      "cell_type": "code",
      "source": [
        "a=input('Enter first no:')\n",
        "b=input('Enter second no:')\n",
        "c=a+b\n",
        "print(c)"
      ],
      "metadata": {
        "colab": {
          "base_uri": "https://localhost:8080/"
        },
        "id": "eAkJjDIX3b5O",
        "outputId": "25e04943-f27e-46f0-cd0f-4ed58ee75824"
      },
      "execution_count": null,
      "outputs": [
        {
          "output_type": "stream",
          "name": "stdout",
          "text": [
            "Enter first no:567\n",
            "Enter second no:76767\n",
            "56776767\n"
          ]
        }
      ]
    },
    {
      "cell_type": "code",
      "source": [
        "a=100\n",
        "print(\"a=\",a)"
      ],
      "metadata": {
        "colab": {
          "base_uri": "https://localhost:8080/"
        },
        "id": "gksPyV8y4zPo",
        "outputId": "68d4e874-8c9d-45a0-be12-9c301d2b694b"
      },
      "execution_count": null,
      "outputs": [
        {
          "output_type": "stream",
          "name": "stdout",
          "text": [
            "a= 100\n"
          ]
        }
      ]
    },
    {
      "cell_type": "code",
      "source": [
        "a=input('Enter first no:')\n",
        "b=input('Enter second no:')\n",
        "c=a+b\n",
        "print(c)"
      ],
      "metadata": {
        "colab": {
          "base_uri": "https://localhost:8080/"
        },
        "id": "O1xNFbtj5Qqk",
        "outputId": "601c0993-7b64-4efb-ae73-176f166f1606"
      },
      "execution_count": null,
      "outputs": [
        {
          "output_type": "stream",
          "name": "stdout",
          "text": [
            "Enter first no:678\n",
            "Enter second no:678\n",
            "678678\n"
          ]
        }
      ]
    },
    {
      "cell_type": "code",
      "source": [
        "\n",
        "#Arithimatic operators\n",
        "a=2\n",
        "b=5\n",
        "c=a+b\n",
        "print('a+b=',c)\n",
        "d=a-b\n",
        "print('a-b=',d)\n",
        "e=a*b\n",
        "print('a*b=',e)\n",
        "f=a/b\n",
        "print('a/b=',f)\n",
        "g=a%b\n",
        "print('a%b=',g)\n",
        "h=a//b\n",
        "print('a-b',h)\n",
        "i=a**b\n",
        "print('a**b=',i)\n",
        "\n",
        "\n",
        "\n"
      ],
      "metadata": {
        "colab": {
          "base_uri": "https://localhost:8080/"
        },
        "id": "DKswsOo67W5S",
        "outputId": "d1070056-4f0e-4284-9dd2-fc0618784dd1"
      },
      "execution_count": null,
      "outputs": [
        {
          "output_type": "stream",
          "name": "stdout",
          "text": [
            "a+b= 7\n",
            "a-b= -3\n",
            "a*b= 10\n",
            "a/b= 0.4\n",
            "a%b= 2\n",
            "a-b 0\n",
            "a**b= 32\n"
          ]
        }
      ]
    },
    {
      "cell_type": "code",
      "source": [
        "a=2\n",
        "b=5\n",
        "a+=b\n",
        "print('a=',a)\n",
        "print('b=',b)"
      ],
      "metadata": {
        "colab": {
          "base_uri": "https://localhost:8080/"
        },
        "id": "-eChVzNVAZ58",
        "outputId": "5b58f50c-ee3a-42d1-ed32-28d601e7db0d"
      },
      "execution_count": null,
      "outputs": [
        {
          "output_type": "stream",
          "name": "stdout",
          "text": [
            "a= 7\n",
            "b= 5\n"
          ]
        }
      ]
    },
    {
      "cell_type": "code",
      "source": [
        "a=8\n",
        "b=5\n",
        "d=a !=b,\n",
        "print('a !=b=',d)"
      ],
      "metadata": {
        "colab": {
          "base_uri": "https://localhost:8080/"
        },
        "id": "r-KKTnMT-ttN",
        "outputId": "40f33e20-cd48-4a37-d26a-7fea796aee22"
      },
      "execution_count": null,
      "outputs": [
        {
          "output_type": "stream",
          "name": "stdout",
          "text": [
            "a !=b= (True,)\n"
          ]
        }
      ]
    },
    {
      "cell_type": "code",
      "source": [
        "#speciai operator\n",
        "a=5\n",
        "b=5\n",
        "d=a is b\n",
        "print('a is b=',d)\n",
        "d=a is not b\n",
        "print('a is not b=',d)"
      ],
      "metadata": {
        "colab": {
          "base_uri": "https://localhost:8080/"
        },
        "id": "vxSz7DNXBJKp",
        "outputId": "f9d403db-203b-4a0c-d51d-25c7566f68fe"
      },
      "execution_count": null,
      "outputs": [
        {
          "output_type": "stream",
          "name": "stdout",
          "text": [
            "a is b= True\n",
            "a is not b= False\n"
          ]
        }
      ]
    },
    {
      "cell_type": "code",
      "source": [
        "# in and not in operator\n",
        "a=\"HELLO\"\n",
        "b=\"1\"\n",
        "c=b in a\n",
        "print(\"b in a=\",c)\n",
        "d=b not in a\n",
        "print(\"b not in a=\",d)"
      ],
      "metadata": {
        "colab": {
          "base_uri": "https://localhost:8080/"
        },
        "id": "93PZKjWGC2Iz",
        "outputId": "34a0e311-ba4a-496b-d97a-2144596e92b3"
      },
      "execution_count": null,
      "outputs": [
        {
          "output_type": "stream",
          "name": "stdout",
          "text": [
            "b in a= False\n",
            "b not in a= True\n"
          ]
        }
      ]
    },
    {
      "cell_type": "code",
      "source": [
        "#input a no and check even\n",
        "a = int(input('enter a number'))\n",
        "if a%2==0:\n",
        "   print('Even No')"
      ],
      "metadata": {
        "colab": {
          "base_uri": "https://localhost:8080/"
        },
        "id": "PRmBRF6TFDqq",
        "outputId": "858013dc-e95c-4801-f930-80ddf3325ffb"
      },
      "execution_count": null,
      "outputs": [
        {
          "output_type": "stream",
          "name": "stdout",
          "text": [
            "enter a number4\n",
            "Even No\n"
          ]
        }
      ]
    },
    {
      "cell_type": "code",
      "source": [
        "# input a no and check even.\n",
        "a=int(input('enter a number'))\n",
        "if a%2==0:\n",
        "    print('Even No')"
      ],
      "metadata": {
        "colab": {
          "base_uri": "https://localhost:8080/"
        },
        "id": "2_h0Z1HtIVQl",
        "outputId": "c606285d-bb1b-48af-c370-2444b7be85b2"
      },
      "execution_count": null,
      "outputs": [
        {
          "name": "stdout",
          "output_type": "stream",
          "text": [
            "enter a number143\n"
          ]
        }
      ]
    },
    {
      "cell_type": "code",
      "source": [
        "str= 'python'\n",
        "for i in str:\n",
        "   print(i)"
      ],
      "metadata": {
        "colab": {
          "base_uri": "https://localhost:8080/"
        },
        "id": "ZKdBTfuMLajs",
        "outputId": "4404aec8-6cc3-4338-fbcd-52094c4ec08a"
      },
      "execution_count": null,
      "outputs": [
        {
          "output_type": "stream",
          "name": "stdout",
          "text": [
            "p\n",
            "y\n",
            "t\n",
            "h\n",
            "o\n",
            "n\n"
          ]
        }
      ]
    },
    {
      "cell_type": "code",
      "source": [
        "for i in range(1,11):\n",
        "   print(i)"
      ],
      "metadata": {
        "colab": {
          "base_uri": "https://localhost:8080/"
        },
        "id": "MJ94iWdONNb8",
        "outputId": "b509dc67-1f4d-456b-98e3-2d78e80b3258"
      },
      "execution_count": null,
      "outputs": [
        {
          "output_type": "stream",
          "name": "stdout",
          "text": [
            "1\n",
            "2\n",
            "3\n",
            "4\n",
            "5\n",
            "6\n",
            "7\n",
            "8\n",
            "9\n",
            "10\n"
          ]
        }
      ]
    },
    {
      "cell_type": "code",
      "source": [
        "# To find AREA and PERIMETER.\n",
        "# Triangle AREA=1/2x b x h .\n",
        "b = int(input('Enter b = ?'))\n",
        "h = int(input('Enter h = ?'))\n",
        "area = 0.5 * b * h\n",
        "print('AREA OF TRIANGLE =', area)\n",
        "# Triangle PERIMETER= a+b+c\n",
        "a = int(input('Enter a = ?'))\n",
        "b = int(input('Enter b = ?'))\n",
        "c = int(input('Enter c = ?'))\n",
        "perimeter=a*b*c\n",
        "print('PERIMETER OF TRIANGLE =',perimeter)\n"
      ],
      "metadata": {
        "colab": {
          "base_uri": "https://localhost:8080/"
        },
        "id": "0xd2DHv1_bo7",
        "outputId": "8889e39a-e027-40de-cfc9-3dfc0f1284e6"
      },
      "execution_count": null,
      "outputs": [
        {
          "output_type": "stream",
          "name": "stdout",
          "text": [
            "Enter b = ?12\n",
            "Enter h = ?11\n",
            "AREA OF TRIANGLE = 66.0\n",
            "Enter a = ?10\n",
            "Enter b = ?22\n",
            "Enter c = ?4\n",
            "PERIMETER OF TRIANGLE = 880\n"
          ]
        }
      ]
    },
    {
      "cell_type": "code",
      "source": [
        "for var in\"ABIT\":\n",
        "  if var==\"B\":\n",
        "    continue\n",
        "  print(var)"
      ],
      "metadata": {
        "colab": {
          "base_uri": "https://localhost:8080/"
        },
        "id": "TlPFGHE6BblH",
        "outputId": "320614ba-b7b4-4542-d6a0-2f8742e82c55"
      },
      "execution_count": null,
      "outputs": [
        {
          "output_type": "stream",
          "name": "stdout",
          "text": [
            "A\n",
            "I\n",
            "T\n"
          ]
        }
      ]
    },
    {
      "cell_type": "code",
      "source": [
        "for i in range(10):\n",
        "  print(i)\n",
        "  if i==2:\n",
        "    break\n"
      ],
      "metadata": {
        "colab": {
          "base_uri": "https://localhost:8080/"
        },
        "id": "54vZLRZ7Cgvk",
        "outputId": "786aae0e-5bf4-4ad8-cb88-e7f3126494e8"
      },
      "execution_count": null,
      "outputs": [
        {
          "output_type": "stream",
          "name": "stdout",
          "text": [
            "0\n",
            "1\n",
            "2\n"
          ]
        }
      ]
    },
    {
      "cell_type": "code",
      "source": [
        "x = abs(-7.25)\n",
        "print(x)"
      ],
      "metadata": {
        "colab": {
          "base_uri": "https://localhost:8080/"
        },
        "id": "SXM1p6gFDuZs",
        "outputId": "3f4e5edd-205d-47cc-b625-a3aa7e6fd776"
      },
      "execution_count": null,
      "outputs": [
        {
          "output_type": "stream",
          "name": "stdout",
          "text": [
            "7.25\n"
          ]
        }
      ]
    },
    {
      "cell_type": "code",
      "source": [
        "list =[0,2,2]\n",
        "a = all(list)\n",
        "print(a)"
      ],
      "metadata": {
        "colab": {
          "base_uri": "https://localhost:8080/"
        },
        "id": "qJd0TiDlD_b0",
        "outputId": "509cc6ba-9142-488f-c187-962f559ed1b8"
      },
      "execution_count": null,
      "outputs": [
        {
          "output_type": "stream",
          "name": "stdout",
          "text": [
            "False\n"
          ]
        }
      ]
    },
    {
      "cell_type": "code",
      "source": [
        "tuple = (0,1, False)\n",
        "a= any(tuple)\n",
        "print(a)\n"
      ],
      "metadata": {
        "colab": {
          "base_uri": "https://localhost:8080/"
        },
        "id": "0R8q7kThEdQf",
        "outputId": "ebd62915-4ea0-4547-a99b-1992b53de9a8"
      },
      "execution_count": null,
      "outputs": [
        {
          "output_type": "stream",
          "name": "stdout",
          "text": [
            "True\n"
          ]
        }
      ]
    },
    {
      "cell_type": "code",
      "source": [
        "a= ascii(\"Mostly sane\")\n",
        "print(a)"
      ],
      "metadata": {
        "colab": {
          "base_uri": "https://localhost:8080/"
        },
        "id": "-VMypAZVFA71",
        "outputId": "d32cc48c-45ed-46de-ec93-1690e1079ddd"
      },
      "execution_count": null,
      "outputs": [
        {
          "output_type": "stream",
          "name": "stdout",
          "text": [
            "'Mostly sane'\n"
          ]
        }
      ]
    },
    {
      "cell_type": "code",
      "source": [
        "a= bin(30)\n",
        "print(a)"
      ],
      "metadata": {
        "colab": {
          "base_uri": "https://localhost:8080/"
        },
        "id": "iR7ydSrQFRKn",
        "outputId": "b5e06d93-a8bf-4ff4-a1b4-4b41d4d40239"
      },
      "execution_count": null,
      "outputs": [
        {
          "output_type": "stream",
          "name": "stdout",
          "text": [
            "0b11110\n"
          ]
        }
      ]
    },
    {
      "cell_type": "code",
      "source": [
        "# user defined function\n",
        "def show():\n",
        "  print('Hello CSE')\n",
        "  show()"
      ],
      "metadata": {
        "id": "WnBsgJ_SFzuG"
      },
      "execution_count": null,
      "outputs": []
    },
    {
      "cell_type": "code",
      "source": [
        "# passing parameter in user Defind Function\n",
        "def ADD(a,b):\n",
        "  c=a+b\n",
        "  print('SUM OF TWO NOS=',c)\n",
        "ADD(10,20)"
      ],
      "metadata": {
        "colab": {
          "base_uri": "https://localhost:8080/"
        },
        "id": "_P4AjIS-HjAC",
        "outputId": "5e3d8b1d-4b84-4208-8264-5d43fdb078ba"
      },
      "execution_count": null,
      "outputs": [
        {
          "output_type": "stream",
          "name": "stdout",
          "text": [
            "SUM OF TWO NOS= 30\n"
          ]
        }
      ]
    },
    {
      "cell_type": "code",
      "source": [
        "# passing parameters in user Defind Function\n",
        "def ADD(a,b):\n",
        "  c=a+b\n",
        "  print('SUM OF TWO NOS=',c)\n",
        "p=int(input(\"Enter first no = ?\"))\n",
        "q=int(input(\"Enter second no = ?\"))\n",
        "ADD(p,q)"
      ],
      "metadata": {
        "colab": {
          "base_uri": "https://localhost:8080/"
        },
        "id": "rwLp1-7mJRQJ",
        "outputId": "a1ab95c3-2cae-489e-882a-9c28114e23fe"
      },
      "execution_count": null,
      "outputs": [
        {
          "output_type": "stream",
          "name": "stdout",
          "text": [
            "Enter first no = ?20\n",
            "Enter second no = ?10\n",
            "SUM OF TWO NOS= 30\n"
          ]
        }
      ]
    },
    {
      "cell_type": "code",
      "source": [
        "# while loop\n",
        "n = i\n",
        "while n<=10:\n",
        "  print(n)\n",
        "  n=n+1"
      ],
      "metadata": {
        "colab": {
          "base_uri": "https://localhost:8080/"
        },
        "id": "Q0EkBuIUOGAo",
        "outputId": "5931b234-953a-4f16-fb99-edfacf0c278d"
      },
      "execution_count": null,
      "outputs": [
        {
          "output_type": "stream",
          "name": "stdout",
          "text": [
            "2\n",
            "3\n",
            "4\n",
            "5\n",
            "6\n",
            "7\n",
            "8\n",
            "9\n",
            "10\n"
          ]
        }
      ]
    },
    {
      "cell_type": "code",
      "source": [
        "# using return statement in user defind function\n",
        "def sumf(n):\n",
        "  s=0\n",
        "  for i in range(1,n+1):\n",
        "    s=s+i\n",
        "  return(s)\n",
        "m=int(input(\"Enter n=?\"))\n",
        "print('sum of n=',sumf(m))"
      ],
      "metadata": {
        "colab": {
          "base_uri": "https://localhost:8080/"
        },
        "id": "T865rdBUL3dq",
        "outputId": "ca2cfa7d-5fdc-49fa-aab8-f636da3d9a7d"
      },
      "execution_count": null,
      "outputs": [
        {
          "output_type": "stream",
          "name": "stdout",
          "text": [
            "Enter n=?5\n",
            "sum of n= 15\n"
          ]
        }
      ]
    },
    {
      "cell_type": "code",
      "source": [
        "list1=['i','LOVE','PYTHON','ABIT']\n",
        "list2=[1,2,3,4,5.6]\n",
        "list3=['python',20,54.6,'rajiv','a','b']"
      ],
      "metadata": {
        "id": "3X_LvrdtPs9P"
      },
      "execution_count": null,
      "outputs": []
    },
    {
      "cell_type": "code",
      "source": [
        "list=[10,20,30,40,50,60,70,80,90]\n",
        "print(list[2:6])"
      ],
      "metadata": {
        "colab": {
          "base_uri": "https://localhost:8080/"
        },
        "id": "xGqMOFpcSEDc",
        "outputId": "ee2923d3-0ce8-41a8-a067-b1f85a46103a"
      },
      "execution_count": null,
      "outputs": [
        {
          "output_type": "stream",
          "name": "stdout",
          "text": [
            "[30, 40, 50, 60]\n"
          ]
        }
      ]
    },
    {
      "cell_type": "code",
      "source": [
        "list=[10,20,30,40,50,60,70,80,90]\n",
        "print(list[:4])"
      ],
      "metadata": {
        "colab": {
          "base_uri": "https://localhost:8080/"
        },
        "id": "Zesen7L-Skwr",
        "outputId": "e86b7ab5-1091-479e-c8cb-ab2c254a5e81"
      },
      "execution_count": null,
      "outputs": [
        {
          "output_type": "stream",
          "name": "stdout",
          "text": [
            "[10, 20, 30, 40]\n"
          ]
        }
      ]
    },
    {
      "cell_type": "code",
      "source": [
        "# Triangle area\n",
        "b=int(input('Enter b:'))\n",
        "h=int(input('Enter h:'))\n",
        "area=0.5*b*h\n",
        "print('Area of a triangle is=',area)\n",
        "# Triangle perimeter\n",
        "a=int(input('Enter a:'))\n",
        "b=int(input('Enter b:'))\n",
        "c=int(input('Enter c:'))\n",
        "perimeter=a*b*c\n",
        "print('perimeter of a triangle is=',perimeter)"
      ],
      "metadata": {
        "colab": {
          "base_uri": "https://localhost:8080/"
        },
        "id": "VxbScugux9FN",
        "outputId": "ab04ab5b-eab6-480c-89e7-46b0bf6bacaa"
      },
      "execution_count": null,
      "outputs": [
        {
          "output_type": "stream",
          "name": "stdout",
          "text": [
            "Enter b:12\n",
            "Enter h:4\n",
            "Area of a triangle is= 24.0\n",
            "Enter a:5\n",
            "Enter b:5\n",
            "Enter c:6\n",
            "perimeter of a triangle is= 150\n"
          ]
        }
      ]
    },
    {
      "cell_type": "code",
      "source": [
        "# Rectangle area\n",
        "b=int(input('Enter b:'))\n",
        "l=int(input('Enter l:'))\n",
        "area=l*b\n",
        "print('Area of a rectangle is=',area)\n",
        "# Rectangle perimeter\n",
        "a=int(input('Enter a:'))\n",
        "b=int(input('Enter b:'))\n",
        "perimeter=2*(a+b)\n",
        "print('perimeter of a rectangle is=',perimeter)"
      ],
      "metadata": {
        "id": "FQmJkdkO0RRv",
        "colab": {
          "base_uri": "https://localhost:8080/"
        },
        "outputId": "834b529f-2133-4cfe-9754-800a7104d75a"
      },
      "execution_count": null,
      "outputs": [
        {
          "output_type": "stream",
          "name": "stdout",
          "text": [
            "Enter b:4\n",
            "Enter l:5\n",
            "Area of a rectangle is= 20\n",
            "Enter a:3\n",
            "Enter b:2\n",
            "perimeter of a rectangle is= 10\n"
          ]
        }
      ]
    },
    {
      "cell_type": "code",
      "source": [
        "# cube volume\n",
        "s=int(input('Enter s:'))\n",
        "volume=s*s*s\n",
        "print('volume of a cube is=',volume)\n",
        "# cube surface area\n",
        "s=int(input('Enter s:'))\n",
        "surface_area=6*s*s\n",
        "print('surface area of a cube is=',surface_area)"
      ],
      "metadata": {
        "colab": {
          "base_uri": "https://localhost:8080/"
        },
        "id": "CDWhiurn48Ny",
        "outputId": "69de01c4-41fd-4e1d-ae14-bb9bd45439e7"
      },
      "execution_count": null,
      "outputs": [
        {
          "output_type": "stream",
          "name": "stdout",
          "text": [
            "Enter s:20\n",
            "volume of a cube is= 8000\n",
            "Enter s:12\n",
            "surface area of a cube is= 864\n"
          ]
        }
      ]
    },
    {
      "cell_type": "code",
      "source": [
        "# cuboid volume\n",
        "l=int(input('Enter l:'))\n",
        "w=int(input('Enter w:'))\n",
        "h=int(input('Enter h:'))\n",
        "volume=l2*w*h\n",
        "print('volume of a cuboid is=',volume)\n",
        "# cuboid surface area\n",
        "l=int(input('Enter l:'))\n",
        "w=int(input('Enter w:'))\n",
        "h=int(input('Enter h:'))\n",
        "surface_area=(2*l*h)+(2*l*w)+(2*w*h)\n",
        "print('surface area of a cuboid is=',surface_area)"
      ],
      "metadata": {
        "colab": {
          "base_uri": "https://localhost:8080/"
        },
        "id": "NxJOBU526i2k",
        "outputId": "fd916a36-4884-4e6b-bbc2-42428b3bf6e3"
      },
      "execution_count": null,
      "outputs": [
        {
          "output_type": "stream",
          "name": "stdout",
          "text": [
            "Enter l:2\n",
            "Enter w:3\n",
            "Enter h:4\n",
            "volume of a cuboid is= 24\n",
            "Enter l:6\n",
            "Enter w:4\n",
            "Enter h:2\n",
            "surface area of a cuboid is= 88\n"
          ]
        }
      ]
    },
    {
      "cell_type": "code",
      "source": [
        "# Regular tetrahedron volume\n",
        "import math\n",
        "b=int(input('Enter b:'))\n",
        "volume=(b*b*b)/(6*math.sqrt(2))\n",
        "print('volume of a regular tetrahedron is=',volume)\n",
        "# Regular tetrahedron surface area\n",
        "b=int(input('Enter b:'))\n",
        "surface_area=math.sqrt(3)*b*b\n",
        "print('surface area of regular tetrahedron is=',surface_area)\n"
      ],
      "metadata": {
        "colab": {
          "base_uri": "https://localhost:8080/"
        },
        "id": "hIdrWqklIx-R",
        "outputId": "9551eb32-095b-4bf6-abcc-abdef9670a93"
      },
      "execution_count": null,
      "outputs": [
        {
          "output_type": "stream",
          "name": "stdout",
          "text": [
            "Enter b:4\n",
            "volume of a regular tetrahedron is= 7.542472332656506\n",
            "Enter b:5\n",
            "surface area of regular tetrahedron is= 43.301270189221924\n"
          ]
        }
      ]
    },
    {
      "cell_type": "code",
      "source": [
        "# square pyramids volume\n",
        "s=int(input('Enter s:'))\n",
        "h=int(input('Enter h:'))\n",
        "volume=0.3*s*s*h\n",
        "print('volume of a square pyramid is=',volume)\n",
        "# square pyramid surface area\n",
        "s=int(input('Enter s:'))\n",
        "h=int(input('Enter h:'))\n",
        "surface_area=(s*s)+(2*s*h)\n",
        "print('surface area of a square pyramid is=',surface_area)"
      ],
      "metadata": {
        "colab": {
          "base_uri": "https://localhost:8080/"
        },
        "id": "1eoJTqTaKvAl",
        "outputId": "f433cc93-efb6-4b14-cbf8-d2aa6d41da43"
      },
      "execution_count": null,
      "outputs": [
        {
          "output_type": "stream",
          "name": "stdout",
          "text": [
            "Enter s:2\n",
            "Enter h:5\n",
            "volume of a square pyramid is= 6.0\n",
            "Enter s:6\n",
            "Enter h:4\n",
            "surface area of a square pyramid is= 84\n"
          ]
        }
      ]
    },
    {
      "cell_type": "code",
      "source": [
        "# pyramids volume\n",
        "a=int(input('Enter a:'))\n",
        "h=int(input('Enter h:'))\n",
        "volume=0.3*a*h\n",
        "print('volume of a pyramid is=',volume)"
      ],
      "metadata": {
        "colab": {
          "base_uri": "https://localhost:8080/"
        },
        "id": "Xtpgadu1P5RM",
        "outputId": "53f95311-cbb1-4bba-f9ab-f997cff0cc08"
      },
      "execution_count": null,
      "outputs": [
        {
          "output_type": "stream",
          "name": "stdout",
          "text": [
            "Enter a:12\n",
            "Enter h:5\n",
            "volume of a pyramid is= 18.0\n"
          ]
        }
      ]
    },
    {
      "cell_type": "code",
      "source": [
        "# prisms volume\n",
        "a=int(input('Enter a:'))\n",
        "h=int(input('Enter h:'))\n",
        "volume=a*h\n",
        "print('volume of a prism is=',volume)\n",
        "# prism surface area\n",
        "a=int(input('Enter a:'))\n",
        "h=int(input('Enter h:'))\n",
        "p=int(input('Enter p:'))\n",
        "surface_area=2*a+(h*p)\n",
        "print('surface area of a prism is=',surface_area)\n"
      ],
      "metadata": {
        "colab": {
          "base_uri": "https://localhost:8080/"
        },
        "id": "jSGc88kkSGRe",
        "outputId": "1bb5d503-b561-4188-d059-ead125da6f3a"
      },
      "execution_count": null,
      "outputs": [
        {
          "output_type": "stream",
          "name": "stdout",
          "text": [
            "Enter a:5\n",
            "Enter h:8\n",
            "volume of a prism is= 40\n",
            "Enter a:6\n",
            "Enter h:4\n",
            "Enter p:3\n",
            "surface area of a prism is= 24\n"
          ]
        }
      ]
    },
    {
      "cell_type": "code",
      "source": [
        "# Triangle prism volume\n",
        "l=int(input('Enter l:'))\n",
        "b=int(input('Enter b:'))\n",
        "h=int(input('Enter h:'))\n",
        "volume=l*b*h\n",
        "print('volume of a triangular prism is=',volume)\n",
        "l=int(input('Enter l:'))\n",
        "b=int(input('Enter b:'))\n",
        "h=int(input('Enter h:'))\n",
        "s=int(input('Enter s:'))\n",
        "surface_area=(b*h)+(2*l*s)+(l*b)\n",
        "print('surface area of a triangular prism is=',surface_area)\n"
      ],
      "metadata": {
        "colab": {
          "base_uri": "https://localhost:8080/"
        },
        "id": "zbUl3MJ4UaEW",
        "outputId": "a3d2a3c1-bbd8-4e75-b029-2d1482d8a373"
      },
      "execution_count": null,
      "outputs": [
        {
          "output_type": "stream",
          "name": "stdout",
          "text": [
            "Enter l:5\n",
            "Enter b:2\n",
            "Enter h:3\n",
            "volume of a triangular prism is= 30\n",
            "Enter l:2\n",
            "Enter b:5\n",
            "Enter h:4\n",
            "Enter s:4\n",
            "surface area of a triangular prism is= 46\n"
          ]
        }
      ]
    },
    {
      "cell_type": "code",
      "source": [
        "# spheres volume\n",
        "n=int(input('Enter n:'))\n",
        "r=int(input('Enter r:'))\n",
        "volume=4/3*(n*r*r*r)\n",
        "print('volume of a spheres is=',volume)\n",
        "# spheres surface area\n",
        "n=int(input('Enter n:'))\n",
        "r=int(input('Enter r:'))\n",
        "surface_area=4*n*r*r\n",
        "print('surface area of a spheres is=',surface_area)"
      ],
      "metadata": {
        "colab": {
          "base_uri": "https://localhost:8080/"
        },
        "id": "QG1loU4lVtz8",
        "outputId": "fcf6b3cf-2839-4781-95fc-3fefa91ee369"
      },
      "execution_count": null,
      "outputs": [
        {
          "output_type": "stream",
          "name": "stdout",
          "text": [
            "Enter n:23\n",
            "Enter r:4\n",
            "volume of a spheres is= 1962.6666666666665\n",
            "Enter n:12\n",
            "Enter r:5\n",
            "surface area of a spheres is= 1200\n"
          ]
        }
      ]
    },
    {
      "cell_type": "code",
      "source": [
        "# Right cicular cone volume\n",
        "n=int(input('Enter n:'))\n",
        "r=int(input('Enter r:'))\n",
        "h=int(input('Enter h:'))\n",
        "volume=1/3*(n*r*r*h)\n",
        "print('volume of a triangular prism is=',volume)\n",
        "# Right circular  cone surface area\n",
        "n=int(input('Enter n:'))\n",
        "r=int(input('Enter r:'))\n",
        "s=int(input('Enter s:'))\n",
        "surface_area=n*r*(r+s)\n",
        "print('surface area of right circular cone is=',surface_area)"
      ],
      "metadata": {
        "colab": {
          "base_uri": "https://localhost:8080/"
        },
        "id": "paSRsiiBUZdi",
        "outputId": "59435275-b834-4d17-a2af-d8a14281400b"
      },
      "execution_count": null,
      "outputs": [
        {
          "output_type": "stream",
          "name": "stdout",
          "text": [
            "Enter n:3\n",
            "Enter r:3\n",
            "Enter h:5\n",
            "volume of a triangular prism is= 45.0\n",
            "Enter n:21\n",
            "Enter r:6\n",
            "Enter s:4\n",
            "surface area of right circular cone is= 1260\n"
          ]
        }
      ]
    },
    {
      "cell_type": "code",
      "source": [
        "# Right cylinder volume\n",
        "n=int(input('Enter n:'))\n",
        "r=int(input('Enter r:'))\n",
        "h=int(input('Enter h:'))\n",
        "volume=n*r*r*h\n",
        "print('volume of a cylinder is=',volume)\n",
        "# Right cylinder surface area\n",
        "n=int(input('Enter n:'))\n",
        "r=int(input('Enter r:'))\n",
        "h=int(input('Enter h:'))\n",
        "surface_area=2*n*r*(r+h)\n",
        "print('surface area of a right cylinder is=',surface_area)"
      ],
      "metadata": {
        "colab": {
          "base_uri": "https://localhost:8080/"
        },
        "id": "a2vos8QGUVNs",
        "outputId": "4183d092-bc36-4ab3-f569-505d23998331"
      },
      "execution_count": null,
      "outputs": [
        {
          "output_type": "stream",
          "name": "stdout",
          "text": [
            "Enter n:4\n",
            "Enter r:6\n",
            "Enter h:9\n",
            "volume of a cylinder is= 1296\n",
            "Enter n:4\n",
            "Enter r:2\n",
            "Enter h:9\n",
            "surface area of a right cylinder is= 176\n"
          ]
        }
      ]
    },
    {
      "cell_type": "code",
      "source": [
        "# swapping without using third variable\n",
        "x=34\n",
        "y=65\n",
        "print('After swapping')\n",
        "print('Value of x:',y)\n",
        "print('Value of y:',x)"
      ],
      "metadata": {
        "colab": {
          "base_uri": "https://localhost:8080/"
        },
        "id": "rcUJKqC-eLLc",
        "outputId": "3cb23e6a-5205-4443-d779-e4a9932bfa03"
      },
      "execution_count": null,
      "outputs": [
        {
          "output_type": "stream",
          "name": "stdout",
          "text": [
            "After swapping\n",
            "Value of x: 65\n",
            "Value of y: 34\n"
          ]
        }
      ]
    },
    {
      "cell_type": "code",
      "source": [
        "# Swapping using third variable\n",
        "x=34\n",
        "y=65\n",
        "temp=x\n",
        "x=y\n",
        "y=temp\n",
        "print('After swapping')\n",
        "print('value of x:',x)\n",
        "print('value of y:',y)"
      ],
      "metadata": {
        "colab": {
          "base_uri": "https://localhost:8080/"
        },
        "id": "zkEgw5UufELL",
        "outputId": "1db5861d-c3c6-4487-ca17-e580e657181c"
      },
      "execution_count": null,
      "outputs": [
        {
          "output_type": "stream",
          "name": "stdout",
          "text": [
            "After swapping\n",
            "value of x: 65\n",
            "value of y: 34\n"
          ]
        }
      ]
    },
    {
      "cell_type": "code",
      "source": [
        "# Reverse without using looping\n",
        "rev=0\n",
        "base=1;\n",
        "def reverse(num):\n",
        "  global rev\n",
        "  global base\n",
        "  if(num>0):\n",
        "    reverse((int)(num/10))\n",
        "    rev+=(num%10)*base\n",
        "    base*=10\n",
        "    return rev\n",
        "num= 1234567\n",
        "print(reverse(num))\n",
        "\n"
      ],
      "metadata": {
        "colab": {
          "base_uri": "https://localhost:8080/"
        },
        "id": "FTkod2rOjQGX",
        "outputId": "e4135d77-9590-4d0d-968a-72a39b0b2a4c"
      },
      "execution_count": null,
      "outputs": [
        {
          "output_type": "stream",
          "name": "stdout",
          "text": [
            "7654321\n"
          ]
        }
      ]
    },
    {
      "cell_type": "code",
      "source": [
        "my_list = [\"apple\",\"orange\",\"banana\",\"strawberry\"]\n",
        "print(my_list)"
      ],
      "metadata": {
        "colab": {
          "base_uri": "https://localhost:8080/"
        },
        "id": "1tjmr0iC3Yef",
        "outputId": "b68e5d10-4ac1-44b2-f358-58c7c16c50b0"
      },
      "execution_count": null,
      "outputs": [
        {
          "output_type": "stream",
          "name": "stdout",
          "text": [
            "['apple', 'orange', 'banana', 'strawberry']\n"
          ]
        }
      ]
    },
    {
      "cell_type": "code",
      "source": [
        "print(type('fruit'))"
      ],
      "metadata": {
        "colab": {
          "base_uri": "https://localhost:8080/"
        },
        "id": "eVR1LzwN5Y2V",
        "outputId": "6b6b0215-4c6a-432a-b390-24355c238c27"
      },
      "execution_count": null,
      "outputs": [
        {
          "output_type": "stream",
          "name": "stdout",
          "text": [
            "<class 'str'>\n"
          ]
        }
      ]
    },
    {
      "cell_type": "code",
      "source": [
        "print(type('jyoti'))\n",
        "print(type(26))\n",
        "print(type(True))\n",
        "print(type(False))"
      ],
      "metadata": {
        "colab": {
          "base_uri": "https://localhost:8080/"
        },
        "id": "KRwqvLkG7vqs",
        "outputId": "a06119da-949f-48e9-96bf-0a59908a4c6a"
      },
      "execution_count": null,
      "outputs": [
        {
          "output_type": "stream",
          "name": "stdout",
          "text": [
            "<class 'str'>\n",
            "<class 'int'>\n",
            "<class 'bool'>\n",
            "<class 'bool'>\n"
          ]
        }
      ]
    },
    {
      "cell_type": "code",
      "source": [
        "mylist=['apple','orange','banana']\n",
        "print(len(mylist))\n",
        "yourlist=[1,4,8]\n",
        "print(yourlist)\n",
        "mylist1=[True,False,True,False]\n",
        "print(mylist)\n",
        "mix=['apple',1,2,'orange',True]\n",
        "print(mix)\n",
        "print(mix[-2])\n",
        "print(mix[1:3])\n",
        "if\"apple\" in mix:\n",
        "  print('yes,it is in mylist')\n",
        "  mylist[2]=\"orange\"\n",
        "  print(mylist)\n",
        "mylist.insert(3,\"kiwi\")\n",
        "print(mylist)\n",
        "mylist.append(\"mango\")\n",
        "print(mylist)\n"
      ],
      "metadata": {
        "colab": {
          "base_uri": "https://localhost:8080/"
        },
        "id": "LnrRxjl19dGv",
        "outputId": "84370af0-c72a-49c6-b67a-f4b5e6792901"
      },
      "execution_count": null,
      "outputs": [
        {
          "output_type": "stream",
          "name": "stdout",
          "text": [
            "3\n",
            "[1, 4, 8]\n",
            "['apple', 'orange', 'banana']\n",
            "['apple', 1, 2, 'orange', True]\n",
            "orange\n",
            "[1, 2]\n",
            "yes,it is in mylist\n",
            "['apple', 'orange', 'orange']\n",
            "['apple', 'orange', 'orange', 'kiwi']\n",
            "['apple', 'orange', 'orange', 'kiwi', 'mango']\n"
          ]
        }
      ]
    },
    {
      "cell_type": "code",
      "source": [
        "Mylist=['apple','orange','banana']\n",
        "if \"apple\" in Mylist:\n",
        "  print('it is in the list')"
      ],
      "metadata": {
        "colab": {
          "base_uri": "https://localhost:8080/"
        },
        "id": "lxqm1yIO-6IM",
        "outputId": "d2784e1c-1e7e-4b91-bcc7-765e655ad17f"
      },
      "execution_count": null,
      "outputs": [
        {
          "output_type": "stream",
          "name": "stdout",
          "text": [
            "it is in the list\n"
          ]
        }
      ]
    },
    {
      "cell_type": "code",
      "source": [
        "Mylist[1]=\"mango\"\n",
        "print(mylist)"
      ],
      "metadata": {
        "colab": {
          "base_uri": "https://localhost:8080/"
        },
        "id": "giAZvCuyIq5v",
        "outputId": "56006264-94a4-41a3-9da6-0188da6da047"
      },
      "execution_count": null,
      "outputs": [
        {
          "output_type": "stream",
          "name": "stdout",
          "text": [
            "['apple', 'orange', 'orange', 'kiwi', 'mango']\n"
          ]
        }
      ]
    },
    {
      "cell_type": "code",
      "source": [
        "Mylist.insert(3,\"kiwi\")\n",
        "print(Mylist)"
      ],
      "metadata": {
        "colab": {
          "base_uri": "https://localhost:8080/"
        },
        "id": "V8iooGn_1e0N",
        "outputId": "53039b2f-b0b0-4221-91e0-fd0f817d4e4d"
      },
      "execution_count": null,
      "outputs": [
        {
          "output_type": "stream",
          "name": "stdout",
          "text": [
            "['app', 'or', 'ab', 'kiwi', 'kiwi', 'kiwi', 'kiwi', 'mango', 'mango']\n"
          ]
        }
      ]
    },
    {
      "cell_type": "code",
      "source": [
        "mylist1 = ['apple','orange','banana']\n",
        "for i in  mylist1:\n",
        "  print(i)"
      ],
      "metadata": {
        "colab": {
          "base_uri": "https://localhost:8080/"
        },
        "id": "B5sUZfHuRO0K",
        "outputId": "69b1d298-c483-46a4-beba-5dc6e5c65013"
      },
      "execution_count": null,
      "outputs": [
        {
          "output_type": "stream",
          "name": "stdout",
          "text": [
            "apple\n",
            "orange\n",
            "banana\n"
          ]
        }
      ]
    },
    {
      "cell_type": "code",
      "source": [
        "Mylist1 =['apple','orange','banana']\n",
        "Mylist =['app','or','ab']\n",
        "print(Mylist1)"
      ],
      "metadata": {
        "colab": {
          "base_uri": "https://localhost:8080/"
        },
        "id": "8FSZRIGmzubR",
        "outputId": "a0271dd2-6078-4e20-b6c5-681671ababfe"
      },
      "execution_count": null,
      "outputs": [
        {
          "output_type": "stream",
          "name": "stdout",
          "text": [
            "['apple', 'orange', 'banana']\n"
          ]
        }
      ]
    },
    {
      "cell_type": "code",
      "source": [
        "Mylist.append(\"mango\")\n",
        "print(Mylist)"
      ],
      "metadata": {
        "colab": {
          "base_uri": "https://localhost:8080/"
        },
        "id": "8mi8n9fE0f9v",
        "outputId": "be282ca2-5736-4d59-bdfa-327e1f4157a6"
      },
      "execution_count": null,
      "outputs": [
        {
          "output_type": "stream",
          "name": "stdout",
          "text": [
            "['app', 'or', 'ab', 'mango', 'mango']\n"
          ]
        }
      ]
    },
    {
      "cell_type": "code",
      "source": [
        "mylist1 = ['apple','orange','banana']\n",
        "for i in mylist1:\n",
        "  print(i)\n",
        "  while(length>2)\n"
      ],
      "metadata": {
        "id": "vP3iy63U2ZWQ"
      },
      "execution_count": null,
      "outputs": []
    },
    {
      "cell_type": "code",
      "source": [
        "unsorted_list=[5,2,-3,7,99]\n",
        "sorted_list=sorted(unsorted_list)\n",
        "print(\"sorted list:\",sorted_list)"
      ],
      "metadata": {
        "colab": {
          "base_uri": "https://localhost:8080/"
        },
        "id": "2kHwls3uBzrV",
        "outputId": "da515a2f-9bee-4311-99c6-6914c96f7991"
      },
      "execution_count": null,
      "outputs": [
        {
          "output_type": "stream",
          "name": "stdout",
          "text": [
            "sorted list: [-3, 2, 5, 7, 99]\n"
          ]
        }
      ]
    },
    {
      "cell_type": "code",
      "source": [
        "import numpy as np\n",
        "data2=[[1,2,3,4],[5,5,7,8]]\n",
        "arr2=np.array(data2)\n",
        "print(arr2.ndim)\n",
        "print(arr2.shape)"
      ],
      "metadata": {
        "colab": {
          "base_uri": "https://localhost:8080/"
        },
        "id": "FoPk-C9eLBtP",
        "outputId": "81f4b6b2-da75-4971-feb5-1feee45bcda4"
      },
      "execution_count": null,
      "outputs": [
        {
          "output_type": "stream",
          "name": "stdout",
          "text": [
            "2\n",
            "(2, 4)\n"
          ]
        }
      ]
    },
    {
      "cell_type": "code",
      "source": [
        "import numpy as np\n",
        "data2=[[1,2,3,4],[5,6,7,8],[55,66,76,88]]\n",
        "arr2 = np.array(data2)\n",
        "print(arr2.ndim)\n",
        "print(arr2.shape)\n",
        "print(arr2)"
      ],
      "metadata": {
        "colab": {
          "base_uri": "https://localhost:8080/"
        },
        "id": "5zMmcAP_Mr3B",
        "outputId": "334977ed-da5e-421a-8d11-851c590e8315"
      },
      "execution_count": null,
      "outputs": [
        {
          "output_type": "stream",
          "name": "stdout",
          "text": [
            "2\n",
            "(3, 4)\n",
            "[[ 1  2  3  4]\n",
            " [ 5  6  7  8]\n",
            " [55 66 76 88]]\n"
          ]
        }
      ]
    },
    {
      "cell_type": "code",
      "source": [
        "array = np.arange(0,10,2)\n",
        "a"
      ],
      "metadata": {
        "colab": {
          "base_uri": "https://localhost:8080/"
        },
        "id": "bt37N0TzRXKh",
        "outputId": "8e6c0faf-986b-40b0-bfee-57b3ae9bccdd"
      },
      "execution_count": null,
      "outputs": [
        {
          "output_type": "execute_result",
          "data": {
            "text/plain": [
              "array([[1, 1, 1],\n",
              "       [2, 3, 8],\n",
              "       [0, 9, 5]])"
            ]
          },
          "metadata": {},
          "execution_count": 15
        }
      ]
    },
    {
      "cell_type": "code",
      "source": [
        "a = np.random.randint(0,10,(3,3))\n",
        "a"
      ],
      "metadata": {
        "colab": {
          "base_uri": "https://localhost:8080/"
        },
        "id": "qVaJkUNgQuFl",
        "outputId": "f862c163-8818-4410-8af7-4f03caab1dd9"
      },
      "execution_count": null,
      "outputs": [
        {
          "output_type": "execute_result",
          "data": {
            "text/plain": [
              "array([[7, 2, 2],\n",
              "       [6, 0, 1],\n",
              "       [4, 3, 9]])"
            ]
          },
          "metadata": {},
          "execution_count": 24
        }
      ]
    },
    {
      "cell_type": "code",
      "source": [
        "array = np.eye(3)\n",
        "a\n",
        "\n",
        "\n"
      ],
      "metadata": {
        "colab": {
          "base_uri": "https://localhost:8080/"
        },
        "id": "HUJNNy6zSsDc",
        "outputId": "6f6ea216-e1fb-4e71-dbae-d86d941a2f1f"
      },
      "execution_count": null,
      "outputs": [
        {
          "output_type": "execute_result",
          "data": {
            "text/plain": [
              "array([[7, 2, 2],\n",
              "       [6, 0, 1],\n",
              "       [4, 3, 9]])"
            ]
          },
          "metadata": {},
          "execution_count": 25
        }
      ]
    },
    {
      "cell_type": "code",
      "source": [
        "array = np.ones((2,3))\n",
        "a"
      ],
      "metadata": {
        "colab": {
          "base_uri": "https://localhost:8080/"
        },
        "id": "d18RznFpTCCX",
        "outputId": "40b66a37-fd7d-4c0c-8983-eff7b940b717"
      },
      "execution_count": null,
      "outputs": [
        {
          "output_type": "execute_result",
          "data": {
            "text/plain": [
              "array([[7, 2, 2],\n",
              "       [6, 0, 1],\n",
              "       [4, 3, 9]])"
            ]
          },
          "metadata": {},
          "execution_count": 26
        }
      ]
    },
    {
      "cell_type": "code",
      "source": [
        " ar = np.zeros((2,3))\n",
        "a"
      ],
      "metadata": {
        "colab": {
          "base_uri": "https://localhost:8080/"
        },
        "id": "RC73VsqRTlZD",
        "outputId": "527a0ed8-7433-43a2-ff2f-6f01375c88c7"
      },
      "execution_count": null,
      "outputs": [
        {
          "output_type": "execute_result",
          "data": {
            "text/plain": [
              "array([[7, 2, 2],\n",
              "       [6, 0, 1],\n",
              "       [4, 3, 9]])"
            ]
          },
          "metadata": {},
          "execution_count": 28
        }
      ]
    },
    {
      "cell_type": "code",
      "source": [
        "arr = np.array([[1,2,3],[4,5,6]])\n",
        "print(arr)\n",
        "[(1,2,3)]\n",
        "[4,5,6 ]"
      ],
      "metadata": {
        "colab": {
          "base_uri": "https://localhost:8080/"
        },
        "id": "ez7wlYAIThpv",
        "outputId": "e4f0b7c8-bb55-4a78-ff8b-113e703e685c"
      },
      "execution_count": null,
      "outputs": [
        {
          "output_type": "stream",
          "name": "stdout",
          "text": [
            "[[1 2 3]\n",
            " [4 5 6]]\n"
          ]
        },
        {
          "output_type": "execute_result",
          "data": {
            "text/plain": [
              "[4, 5, 6]"
            ]
          },
          "metadata": {},
          "execution_count": 29
        }
      ]
    },
    {
      "cell_type": "code",
      "source": [
        "import numpy as np\n",
        "print('Enter row size')\n",
        "r=int(input())\n",
        "print('Enter column size')\n",
        "c=int(input())\n",
        "arr=np.random.randint(0,50,(r,c))\n",
        "print(arr)"
      ],
      "metadata": {
        "colab": {
          "base_uri": "https://localhost:8080/"
        },
        "id": "7Ox23w4Edoch",
        "outputId": "7a497c0d-f1c6-475e-894f-ace2bf4d9670"
      },
      "execution_count": null,
      "outputs": [
        {
          "output_type": "stream",
          "name": "stdout",
          "text": [
            "Enter row size\n",
            "2\n",
            "Enter column size\n",
            "3\n",
            "[[43  4  7]\n",
            " [ 0 46  0]]\n"
          ]
        }
      ]
    },
    {
      "cell_type": "code",
      "source": [
        "def gcd_fun(x,y):\n",
        " if(y==0):#\n",
        "   return x\n",
        " else:\n",
        "  return gcd_fun(y,x%y)\n",
        "x =int(input(\"enter the first number:\"))\n",
        "y =int(input(\"enter the second number:\"))\n",
        "num=gcd_fun(x,y)\n",
        "print(\"GCD of two numbers is:\")\n",
        "print(num)"
      ],
      "metadata": {
        "colab": {
          "base_uri": "https://localhost:8080/"
        },
        "id": "-wTsNR-jTD1G",
        "outputId": "8cee3c86-29f2-4b45-d2aa-2afaa86a0953"
      },
      "execution_count": null,
      "outputs": [
        {
          "output_type": "stream",
          "name": "stdout",
          "text": [
            "enter the first number:30\n",
            "enter the second number:40\n",
            "GCD of two numbers is:\n",
            "10\n"
          ]
        }
      ]
    },
    {
      "cell_type": "code",
      "source": [
        "# searching list sequentially\n",
        "for i in range(0,n):\n",
        "  if(list1[i] == key):\n",
        "    return i\n",
        "    return-1\n",
        "    list 1=\n"
      ],
      "metadata": {
        "id": "Uz7dFgD_jA3p"
      },
      "execution_count": null,
      "outputs": []
    }
  ]
}